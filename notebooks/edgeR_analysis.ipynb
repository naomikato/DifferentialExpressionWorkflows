# EdgeR Analysis

## Introduction and Setup

This Jupyter Notebook demonstrates a basic workflow for performing differential gene expression analysis using the edgeR package.

```python
import pandas as pd
from edgeR import DGEList, calcNormFactors, estimateDisp, glmLRT

Data Preprocessing
Load the gene expression data, control samples, and treatment samples.

gene_expression_data = pd.read_csv('data/gene_expression_data.csv')
control_samples = pd.read_csv('data/control_samples.csv')
treatment_samples = pd.read_csv('data/treatment_samples.csv')

Prepare the DGEList object and normalize counts.

counts_matrix = gene_expression_data.set_index('Sample_ID').dropna(axis=1)
sample_info = pd.concat([control_samples, treatment_samples], ignore_index=True)
dge = DGEList(counts_matrix)
dge = calcNormFactors(dge)

Dispersion Estimation and Differential Expression Analysis
Estimate dispersion and perform likelihood ratio tests.

design_matrix = pd.get_dummies(sample_info['Condition'], drop_first=True)
dge = estimateDisp(dge, design_matrix)
contrast_matrix = design_matrix.copy()
contrast_matrix['Treatment'] = 1
fit = glmLRT(dge, contrast=contrast_matrix)
results = fit.table

Results Visualization and Interpretation
Load and visualize the results.

import matplotlib.pyplot as plt

results = pd.read_csv('results/edgeR_results.csv')

# Create MA plot
plt.figure(figsize=(8, 6))
plt.scatter(results['logCPM'], results['logFC'], s=10, alpha=0.5)
plt.xlabel('Log Counts Per Million (logCPM)')
plt.ylabel('Log Fold Change (logFC)')
plt.title('MA Plot')
plt.show()


Director of Bioinformatics: Naomi Kato

